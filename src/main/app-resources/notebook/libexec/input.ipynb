{
 "cells": [
  {
   "cell_type": "markdown",
   "metadata": {},
   "source": [
    "## SATCEN-01-01-01 Sentinel-2 Vegetation and Water Thematic Index application"
   ]
  },
  {
   "cell_type": "markdown",
   "metadata": {},
   "source": [
    "This notebook takes a Sentinel-2 Level 1 product and generates the following results: \n",
    "\n",
    "* Atmospheric correction and cloud flagging (obtained via Sen2Corr) (TBC)\n",
    "* All bands resampled to maximum resolution (10 m)\n",
    "* Subset on AOI\n",
    "* Compute the cloud coverage in the AOI and reject if above 20%\n",
    "* Compute the NDVI and NDWI indices\n"
   ]
  },
  {
   "cell_type": "code",
   "execution_count": 1,
   "metadata": {
    "collapsed": true
   },
   "outputs": [],
   "source": [
    "import os\n",
    "import sys\n",
    "import numpy as np\n",
    "import snappy\n",
    "import dateutil.parser as parser\n",
    "import gc\n",
    "from datetime import datetime\n",
    "import gdalnumeric\n",
    "import osr\n",
    "\n",
    "import cioppy\n",
    "ciop = cioppy.Cioppy()\n",
    "\n",
    "from shapely.wkt import loads\n",
    "import lxml.etree as etree\n",
    "\n"
   ]
  },
  {
   "cell_type": "code",
   "execution_count": 2,
   "metadata": {
    "collapsed": true
   },
   "outputs": [],
   "source": [
    "service = dict([('title', 'NDVI-NDWI & Cloud Coverage Filtering'),\n",
    "                ('abstract', 'Sentinel-2 NDVI NDWI'),\n",
    "                ('id', 'ewf-satcen-01-01-01')])"
   ]
  },
  {
   "cell_type": "code",
   "execution_count": 3,
   "metadata": {},
   "outputs": [],
   "source": [
    "wkt = dict([('id', 'aoi_wkt'),\n",
    "               ('value','POLYGON ((21.29611111111111 39.58638888888889, 21.29611111111111 41.032, 19.89788888888889 41.032, 19.89788888888889 39.58638888888889, 21.29611111111111 39.58638888888889))'),\n",
    "               ('title', 'Area of interest wkt'),\n",
    "               ('abstract', 'Area of interest wkt')])\n"
   ]
  },
  {
   "cell_type": "code",
   "execution_count": 4,
   "metadata": {
    "collapsed": true
   },
   "outputs": [],
   "source": [
    "data_path = '/workspace/data'"
   ]
  },
  {
   "cell_type": "code",
   "execution_count": 5,
   "metadata": {
    "collapsed": true
   },
   "outputs": [],
   "source": [
    "\n",
    "#input_identifier ='S2B_MSIL2A_20180522T093029_N0207_R136_T34TDL_20180522T121543'\n",
    "input_identifier ='S2A_MSIL2A_20180527T093041_N0206_R136_T34TDK_20180527T113215'\n"
   ]
  },
  {
   "cell_type": "code",
   "execution_count": 6,
   "metadata": {
    "collapsed": true
   },
   "outputs": [],
   "source": [
    "#input_reference = 'https://catalog.terradue.com/sentinel2/search?uid=S2B_MSIL2A_20180522T093029_N0207_R136_T34TDL_20180522T121543'\n",
    "input_reference = 'https://catalog.terradue.com//better-common-00001/series/results/search?uid=06cd99b5366608ae7966044f7b9dfb9db24b930d'\n"
   ]
  },
  {
   "cell_type": "markdown",
   "metadata": {},
   "source": [
    "#### check if intersection with aoi_wkt exists"
   ]
  },
  {
   "cell_type": "code",
   "execution_count": 7,
   "metadata": {},
   "outputs": [],
   "source": [
    "ciop = cioppy.Cioppy()\n",
    "product_polygon = ciop.search(end_point=input_reference, \n",
    "                              params=[], \n",
    "                              output_fields='wkt',\n",
    "                              model='GeoTime')\n",
    "\n",
    "geom1 = loads(product_polygon[0]['wkt'])\n",
    "geom2 = loads(wkt['value'])\n",
    "\n",
    "if not geom1.intersects(geom2):\n",
    "    raise ValueError('Area of Interest has no intersection with selected product.')\n"
   ]
  },
  {
   "cell_type": "markdown",
   "metadata": {},
   "source": [
    "\n",
    "### check if u have MSIL2A on the mentioned path (BETTER-COMMON products to be checked)"
   ]
  },
  {
   "cell_type": "code",
   "execution_count": 8,
   "metadata": {
    "collapsed": false
   },
   "outputs": [],
   "source": [
    "s2prd = \"%s/%s/%s.SAFE/MTD_MSIL2A.xml\" % (data_path, input_identifier, input_identifier)\n",
    "product = snappy.ProductIO.readProduct(s2prd)\n",
    "width = product.getSceneRasterWidth()\n",
    "height = product.getSceneRasterHeight()\n",
    "name = product.getName()\n",
    "description = product.getDescription()\n",
    "band_names = product.getBandNames()\n"
   ]
  },
  {
   "cell_type": "code",
   "execution_count": 9,
   "metadata": {
    "collapsed": true
   },
   "outputs": [],
   "source": [
    "product_date = parser.parse(product.getStartTime().toString()).date()"
   ]
  },
  {
   "cell_type": "code",
   "execution_count": 10,
   "metadata": {
    "collapsed": true
   },
   "outputs": [],
   "source": [
    "output_date = '%s%02d%02d' % (product_date.year, product_date.month, product_date.day)"
   ]
  },
  {
   "cell_type": "markdown",
   "metadata": {},
   "source": [
    "#### If the product lacks B8, terminate the calculation"
   ]
  },
  {
   "cell_type": "code",
   "execution_count": 11,
   "metadata": {},
   "outputs": [],
   "source": [
    "if not 'B8' in band_names :    \n",
    "    raise ValueError('The selected Product has No Band B8.')"
   ]
  },
  {
   "cell_type": "markdown",
   "metadata": {},
   "source": [
    "#### Resample the product to 10m resolution"
   ]
  },
  {
   "cell_type": "code",
   "execution_count": 12,
   "metadata": {
    "collapsed": false
   },
   "outputs": [],
   "source": [
    "reference_band = 'B4'\n",
    "snappy.GPF.getDefaultInstance().getOperatorSpiRegistry().loadOperatorSpis()\n",
    "HashMap = snappy.jpy.get_type('java.util.HashMap')\n",
    "parameters = HashMap()\n",
    "parameters.put('referenceBand', reference_band)\n",
    "product = snappy.GPF.createProduct('Resample', parameters, product)\n",
    "   "
   ]
  },
  {
   "cell_type": "markdown",
   "metadata": {},
   "source": [
    "#### Pixle Flag Expresion\n"
   ]
  },
  {
   "cell_type": "code",
   "execution_count": 13,
   "metadata": {
    "collapsed": true
   },
   "outputs": [],
   "source": [
    "flag_expr = dict([('id', 'flag_expr'),\n",
    "               ('value',  'saturated_l1a_B4 or scl_water'),\n",
    "               ('title', 'Flag expression for pixel exclusion'),\n",
    "               ('abstract', 'Flag expression for pixel exclusion (e.g. saturated_l1a_B4 will exclude pixels having the flag saturated_l1a_B4 set)')])"
   ]
  },
  {
   "cell_type": "markdown",
   "metadata": {},
   "source": [
    "## ndvi & ndwi computation"
   ]
  },
  {
   "cell_type": "code",
   "execution_count": 14,
   "metadata": {},
   "outputs": [],
   "source": [
    "\n",
    "if not flag_expr['value'] :\n",
    "\n",
    "        ndvi_expr = '(B8 + B4) != 0 ? 10000 + ((B8 - B4)/(B8 + B4)) * 10000 : 30000'\n",
    "        ndwi_expr='(B8+B11)!=0? 10000+((B8-B11)/(B8+B11))*10000 :30000'\n",
    "\n",
    "        \n",
    "else:\n",
    "   \n",
    "    ndvi_expr = '! %s and (B8 + B4) != 0 ? 10000 + ((B8 - B4)/(B8 + B4)) * 10000 : 30000' % flag_expr['value']\n",
    "    ndwi_expr = '! %s and (B8 + B11) != 0 ? 10000 + ((B8 - B11)/(B8 + B11)) * 10000 : 30000' % flag_expr['value']\n"
   ]
  },
  {
   "cell_type": "code",
   "execution_count": 15,
   "metadata": {},
   "outputs": [
    {
     "name": "stdout",
     "output_type": "stream",
     "text": [
      "15\n",
      "['ndwi', 'ndvi', 'quality_cloud_confidence', 'quality_snow_confidence', 'quality_scene_classification', 'B2', 'B3', 'B4', 'B5', 'B6', 'B7', 'B8', 'B8A', 'B11', 'B12']\n"
     ]
    }
   ],
   "source": [
    "\n",
    "displayed_Bands=['ndwi','ndvi','quality_cloud_confidence','quality_snow_confidence', 'quality_scene_classification', 'B2', 'B3', 'B4', 'B5', 'B6', 'B7', 'B8', 'B8A', 'B11', 'B12']\n",
    "\n",
    "print(len(displayed_Bands))\n",
    "print(displayed_Bands)\n"
   ]
  },
  {
   "cell_type": "markdown",
   "metadata": {},
   "source": [
    "## Cloud Coverage Analysis"
   ]
  },
  {
   "cell_type": "code",
   "execution_count": 16,
   "metadata": {},
   "outputs": [],
   "source": [
    "percentage_threshold = dict([('id', 'percentage_threshold'),\n",
    "                           ('value', '20.0'),\n",
    "                           ('title', 'Cloud percentage threshold'),\n",
    "                           ('abstract', 'Cloud percentage threshold')])"
   ]
  },
  {
   "cell_type": "code",
   "execution_count": 17,
   "metadata": {},
   "outputs": [],
   "source": [
    "HashMap = snappy.jpy.get_type('java.util.HashMap')\n",
    "\n",
    "BandDescriptor = snappy.jpy.get_type('org.esa.snap.core.gpf.common.BandMathsOp$BandDescriptor')\n",
    "\n",
    "targetBand0 = BandDescriptor()\n",
    "targetBand0.name = 'cloud_mask'\n",
    "targetBand0.type = 'uint16'\n",
    "targetBand0.expression = 'opaque_clouds_10m'\n",
    "\n",
    "\n",
    "targetBands = snappy.jpy.array('org.esa.snap.core.gpf.common.BandMathsOp$BandDescriptor', 1)\n",
    "targetBands[0] = targetBand0\n",
    "\n",
    " \n",
    "parameters = HashMap()\n",
    "parameters.put('targetBands', targetBands)\n",
    "\n",
    "cloud_mask = snappy.GPF.createProduct('BandMaths', parameters, product)\n"
   ]
  },
  {
   "cell_type": "code",
   "execution_count": 18,
   "metadata": {},
   "outputs": [],
   "source": [
    "WKTReader = snappy.jpy.get_type('com.vividsolutions.jts.io.WKTReader')\n",
    "\n",
    "geom = WKTReader().read(wkt['value'])\n",
    "parameters = HashMap()\n",
    "parameters.put('copyMetadata', True)\n",
    "parameters.put('geoRegion', geom)\n",
    "cloud_mask_geo = snappy.GPF.createProduct('Subset', parameters, cloud_mask)\n",
    "mask_geo_output_name = '%s_MASK_10.tif' %name\n",
    "snappy.ProductIO.writeProduct(cloud_mask_geo, mask_geo_output_name,'GeoTIFF')"
   ]
  },
  {
   "cell_type": "code",
   "execution_count": 19,
   "metadata": {},
   "outputs": [
    {
     "name": "stdout",
     "output_type": "stream",
     "text": [
      "0 0\n",
      "0\n"
     ]
    }
   ],
   "source": [
    "raster_file = gdalnumeric.LoadFile(mask_geo_output_name)\n",
    "print raster_file.min(), raster_file.max()\n",
    "pixel_count_cloud_geo = (raster_file == 255).sum()  # for pixel value = 1\n",
    "print pixel_count_cloud_geo\n",
    "cloud_percent =  float(pixel_count_cloud_geo) / float(raster_file.size) * 100.0"
   ]
  },
  {
   "cell_type": "code",
   "execution_count": 20,
   "metadata": {},
   "outputs": [
    {
     "data": {
      "text/plain": [
       "0.0"
      ]
     },
     "execution_count": 20,
     "metadata": {},
     "output_type": "execute_result"
    }
   ],
   "source": [
    "cloud_percent"
   ]
  },
  {
   "cell_type": "markdown",
   "metadata": {},
   "source": [
    "## Creating Geotif for Target Bands : B1/B12 & ndvi & ndwi & Cloud Mask\n"
   ]
  },
  {
   "cell_type": "code",
   "execution_count": 21,
   "metadata": {},
   "outputs": [],
   "source": [
    "if cloud_percent < float(percentage_threshold['value']):\n",
    "    \n",
    "    snappy.GPF.getDefaultInstance().getOperatorSpiRegistry().loadOperatorSpis()\n",
    "\n",
    "    HashMap = snappy.jpy.get_type('java.util.HashMap')\n",
    "\n",
    "    WKTReader = snappy.jpy.get_type('com.vividsolutions.jts.io.WKTReader')\n",
    "    \n",
    "    geom = WKTReader().read(wkt['value'])\n",
    "    \n",
    "    geotiffs = []\n",
    "    targetBands = snappy.jpy.array('org.esa.snap.core.gpf.common.BandMathsOp$BandDescriptor', len(displayed_Bands))\n",
    "    \n",
    "    for band in displayed_Bands:\n",
    "        \n",
    "        \n",
    "        HashMap = snappy.jpy.get_type('java.util.HashMap')\n",
    "        BandDescriptor = snappy.jpy.get_type('org.esa.snap.core.gpf.common.BandMathsOp$BandDescriptor')\n",
    "\n",
    "        parameters = HashMap()\n",
    "        parameters.put('copyMetadata', True)\n",
    "        \n",
    "        \n",
    "        if band == 'ndvi' or band == 'ndwi':\n",
    "            \n",
    "            targetBand = BandDescriptor()\n",
    "            targetBand.name = band\n",
    "            targetBand.type = 'uint16'\n",
    "\n",
    "            if band == 'ndvi':\n",
    "                targetBand.expression = ndvi_expr\n",
    "            elif band == 'ndwi':\n",
    "                targetBand.expression = ndwi_expr\n",
    "            \n",
    "            targetBands = snappy.jpy.array('org.esa.snap.core.gpf.common.BandMathsOp$BandDescriptor', 1)\n",
    "            targetBands[0] = targetBand\n",
    "            parameters.put('targetBands', targetBands)\n",
    "            subset = snappy.GPF.createProduct('BandMaths', parameters, product)\n",
    "\n",
    "        else:\n",
    "            parameters.put('sourceBands', band)\n",
    "            subset = snappy.GPF.createProduct('Subset', parameters, product)\n",
    "        \n",
    "\n",
    "        parameters = HashMap()\n",
    "        parameters.put('copyMetadata', True)\n",
    "        parameters.put('geoRegion', geom)\n",
    "\n",
    "        subset_geo = snappy.GPF.createProduct('Subset', parameters, subset)\n",
    "\n",
    "        subsets.append(subset_geo)\n",
    "\n",
    "        output_name = '%s_PA_CROP_%s.tif' % (name, band)\n",
    "        geotiffs.append(output_name)\n",
    "\n",
    "        snappy.ProductIO.writeProduct(subset_geo, output_name, 'GeoTIFF-BigTIFF')\n",
    "else:\n",
    "    raise ValueError('Selected product cloud coverage percentage is  %s >= %s' %(cloud_percent,percentage_threshold['value']))"
   ]
  },
  {
   "cell_type": "code",
   "execution_count": 22,
   "metadata": {
    "collapsed": false
   },
   "outputs": [
    {
     "data": {
      "text/plain": [
       "0"
      ]
     },
     "execution_count": 22,
     "metadata": {},
     "output_type": "execute_result"
    }
   ],
   "source": [
    "product = None\n",
    "gc.collect()"
   ]
  },
  {
   "cell_type": "markdown",
   "metadata": {},
   "source": [
    "### EOP Metadata"
   ]
  },
  {
   "cell_type": "code",
   "execution_count": 23,
   "metadata": {},
   "outputs": [],
   "source": [
    "def eop_metadata(metadata):\n",
    "\n",
    "    opt = 'http://www.opengis.net/opt/2.1'\n",
    "    om  = 'http://www.opengis.net/om/2.0'\n",
    "    gml = 'http://www.opengis.net/gml/3.2'\n",
    "    eop = 'http://www.opengis.net/eop/2.1'\n",
    "    sar = 'http://www.opengis.net/sar/2.1'\n",
    "    \n",
    "    root = etree.Element('{%s}EarthObservation' % opt)\n",
    "\n",
    "    phenomenon_time = etree.SubElement(root, '{%s}phenomenonTime' % om)\n",
    "\n",
    "    time_period = etree.SubElement(phenomenon_time, '{%s}TimePeriod' % gml)\n",
    "\n",
    "    begin_position = etree.SubElement(time_period, '{%s}beginPosition'  % gml)\n",
    "\n",
    "    end_position = etree.SubElement(time_period, '{%s}endPosition'  % gml)\n",
    "\n",
    "    procedure = etree.SubElement(root, '{%s}procedure' % om)\n",
    "\n",
    "    earth_observation_equipment = etree.SubElement(procedure, '{%s}EarthObservationEquipment' % eop)\n",
    "\n",
    "    acquisition_parameters = etree.SubElement(earth_observation_equipment, '{%s}acquisitionParameters' % eop)\n",
    "\n",
    "    acquisition = etree.SubElement(acquisition_parameters, '{%s}Acquisition' % sar)\n",
    "\n",
    "    orbit_number = etree.SubElement(acquisition, '{%s}orbitNumber' % eop)\n",
    "\n",
    "    wrs_longitude_grid = etree.SubElement(acquisition, '{%s}wrsLongitudeGrid' % eop)\n",
    "    \n",
    "    feature_of_interest = etree.SubElement(root, '{%s}featureOfInterest' % om)\n",
    "    footprint = etree.SubElement(feature_of_interest, '{%s}Footprint' % eop)\n",
    "    multi_extentOf = etree.SubElement(footprint, '{%s}multiExtentOf' % eop)\n",
    "    multi_surface = etree.SubElement(multi_extentOf, '{%s}MultiSurface' % gml)\n",
    "    surface_members = etree.SubElement(multi_surface, '{%s}surfaceMembers' % gml)\n",
    "    polygon = etree.SubElement(surface_members, '{%s}Polygon' % gml)    \n",
    "    exterior = etree.SubElement(polygon, '{%s}exterior' % gml)  \n",
    "    linear_ring = etree.SubElement(exterior, '{%s}LinearRing' % gml) \n",
    "    poslist = etree.SubElement(linear_ring, '{%s}posList' % gml) \n",
    "\n",
    "\n",
    "    result = etree.SubElement(root, '{%s}result' % om)\n",
    "    earth_observation_result = etree.SubElement(result, '{%s}EarthObservationResult' % opt)\n",
    "    cloud_cover_percentage = etree.SubElement(earth_observation_result, '{%s}cloudCoverPercentage' % opt)\n",
    "    \n",
    "    metadata_property = etree.SubElement(root, '{%s}metaDataProperty' % eop)\n",
    "    earth_observation_metadata = etree.SubElement(metadata_property, '{%s}EarthObservationMetaData' % eop)\n",
    "    identifier = etree.SubElement(earth_observation_metadata, '{%s}identifier' % eop)\n",
    "    \n",
    "    begin_position.text = metadata['startdate']\n",
    "    end_position.text = metadata['enddate']\n",
    "    orbit_number.text = metadata['orbitNumber']\n",
    "    wrs_longitude_grid.text = metadata['wrsLongitudeGrid']\n",
    "    \n",
    "    coords = np.asarray([t[::-1] for t in list(loads(metadata['wkt']).exterior.coords)]).tolist()\n",
    " \n",
    "    pos_list = ''\n",
    "    for elem in coords:\n",
    "        pos_list += ' '.join(str(e) for e in elem) + ' '   \n",
    "\n",
    "    poslist.attrib['count'] = str(len(coords))\n",
    "    poslist.text = pos_list\n",
    "    \n",
    "    \n",
    "    identifier.text = metadata['identifier'] \n",
    "\n",
    "    return etree.tostring(root, pretty_print=True)\n",
    "\n",
    "\n"
   ]
  },
  {
   "cell_type": "markdown",
   "metadata": {},
   "source": [
    "## Create EOP XML file"
   ]
  },
  {
   "cell_type": "code",
   "execution_count": 24,
   "metadata": {},
   "outputs": [],
   "source": [
    "search = ciop.search(end_point=input_reference,\n",
    "                     params=[],\n",
    "                     output_fields='enclosure,identifier,startdate,enddate,wkt,orbitNumber,orbitDirection,wrsLongitudeGrid',\n",
    "                     model='EOP')\n",
    "\n",
    "search[0]['wkt'] = wkt['value']\n",
    "\n",
    "for output_name in geotiffs:\n",
    "    \n",
    "    search[0]['identifier'] = output_name.replace('.tif', '')\n",
    "    eop_xml = output_name+'.xml'\n",
    "    with open(eop_xml, 'wb') as file:\n",
    "        file.write('<?xml version=\"1.0\" encoding=\"UTF-8\"?>\\n')\n",
    "        file.write(eop_metadata(search[0]))\n",
    "\n"
   ]
  },
  {
   "cell_type": "markdown",
   "metadata": {},
   "source": [
    "### Removing tifs won't be published"
   ]
  },
  {
   "cell_type": "code",
   "execution_count": null,
   "metadata": {},
   "outputs": [],
   "source": [
    "produced_tifs = [f for f in os.listdir(base_path) if f.endswith('.tif')]\n",
    "\n",
    "for f in [item for item in produced_tifs if item not in geotiffs]:\n",
    "    os.remove(f)"
   ]
  }
 ],
 "metadata": {
  "kernelspec": {
   "display_name": "Python 2",
   "language": "python",
   "name": "python2"
  },
  "language_info": {
   "codemirror_mode": {
    "name": "ipython",
    "version": 2
   },
   "file_extension": ".py",
   "mimetype": "text/x-python",
   "name": "python",
   "nbconvert_exporter": "python",
   "pygments_lexer": "ipython2",
   "version": "2.7.12"
  }
 },
 "nbformat": 4,
 "nbformat_minor": 2
}
