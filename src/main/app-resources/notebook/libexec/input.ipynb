{
 "cells": [
  {
   "cell_type": "markdown",
   "metadata": {},
   "source": [
    "## SATCEN-01-01-01 Sentinel-2 Vegetation and Water Thematic Index application"
   ]
  },
  {
   "cell_type": "raw",
   "metadata": {},
   "source": [
    "This notebook takes a Sentinel-2 Level 1 product and generates the following results: \n",
    "\n",
    "\n",
    "-Atmospheric correction and cloud flagging (obtained via Sen2Corr) (TBC)\n",
    "-All bands resampled to maximum resolution (10 m)\n",
    "-Subset on AOI\n",
    "-Compute the cloud coverage in the AOI and reject if above 20%\n",
    "-Compute the NDVI and NDWI indices\n"
   ]
  },
  {
   "cell_type": "code",
   "execution_count": 1,
   "metadata": {
    "collapsed": true
   },
   "outputs": [],
   "source": [
    "import os\n",
    "import sys\n",
    "import numpy as np\n",
    "import matplotlib\n",
    "import matplotlib.pyplot as plt\n",
    "import snappy\n",
    "import dateutil.parser as parser\n",
    "import gc\n",
    "from datetime import datetime\n",
    "import matplotlib\n",
    "import matplotlib.colors as colors\n",
    "from PIL import Image\n",
    "from PIL import ImageDraw\n",
    "from os.path import basename\n",
    "import gdal\n",
    "import osr\n",
    "\n",
    "\n",
    "from os.path import exists\n",
    "from osgeo import gdal\n",
    "from osgeo.gdalconst import GA_ReadOnly\n",
    "from struct import unpack\n",
    "from sys import argv\n",
    "from sys import exit\n",
    "\n",
    "%matplotlib inline"
   ]
  },
  {
   "cell_type": "code",
   "execution_count": 2,
   "metadata": {
    "collapsed": true
   },
   "outputs": [],
   "source": [
    "service = dict([('title', 'NDVI NDWI & Cloud Coverage Filtering'),\n",
    "                ('abstract', 'Sentinel-2 NDVI NDWI'),\n",
    "                ('id', 'ewf-satcen-01-01-01')])"
   ]
  },
  {
   "cell_type": "code",
   "execution_count": 3,
   "metadata": {
    "collapsed": true
   },
   "outputs": [],
   "source": [
    "resolution = dict([('id', 'resolution'),\n",
    "               ('value', ['10','20','60']),\n",
    "               ('title', 'Spatial resolution'),\n",
    "               ('abstract', 'Spatial resolution in meters')])"
   ]
  },
  {
   "cell_type": "code",
   "execution_count": 4,
   "metadata": {},
   "outputs": [],
   "source": [
    "resolution['value']='60'"
   ]
  },
  {
   "cell_type": "code",
   "execution_count": 5,
   "metadata": {
    "collapsed": true
   },
   "outputs": [],
   "source": [
    "plot_quicklooks = dict([('id', 'plot'),\n",
    "               ('value', 'False'),\n",
    "               ('title', 'Boolean to add quicklooks to notebook'),\n",
    "               ('abstract', 'Boolean to add quicklooks to notebook')])"
   ]
  },
  {
   "cell_type": "code",
   "execution_count": 6,
   "metadata": {},
   "outputs": [],
   "source": [
    "wkt = dict([('id', 'aoi_wkt'),\n",
    "               ('value','POLYGON ((13.01838538206531 19.89665651504371, 13.03372826177749 19.96277226734876, 13.03376921854866 19.96294949064782, 13.06792301494718 20.11135083606957, 13.07981376447621 20.16275407016153, 13.08291535639824 19.89750155500933, 13.01838538206531 19.89665651504371))'),\n",
    "               ('title', 'Area of interest wkt'),\n",
    "               ('abstract', 'Area of interest wkt')])\n",
    "\n"
   ]
  },
  {
   "cell_type": "code",
   "execution_count": 7,
   "metadata": {
    "collapsed": true
   },
   "outputs": [],
   "source": [
    "data_path = '/workspace/data'"
   ]
  },
  {
   "cell_type": "code",
   "execution_count": 8,
   "metadata": {
    "collapsed": true
   },
   "outputs": [],
   "source": [
    "\n",
    "input_identifier ='S2A_MSIL2A_20170701T093031_N0205_R136_T33QTC_20170701T094237'\n"
   ]
  },
  {
   "cell_type": "code",
   "execution_count": 9,
   "metadata": {
    "collapsed": true
   },
   "outputs": [],
   "source": [
    "input_reference = 'https://catalog.terradue.com//better-common-00001/series/results/search?format=atom&uid=23108384025f27a1392a2f4dd0b0db2f05867f6c'\n"
   ]
  },
  {
   "cell_type": "markdown",
   "metadata": {},
   "source": [
    "#### check if intersection with aoi_wkt exists"
   ]
  },
  {
   "cell_type": "code",
   "execution_count": 10,
   "metadata": {},
   "outputs": [],
   "source": [
    "from shapely.wkt import loads\n",
    "import cioppy\n",
    "ciop = cioppy.Cioppy()\n",
    "product_polygon = ciop.search(end_point=input_reference, params=[], output_fields='wkt')\n",
    "geom1 = loads(product_polygon[0]['wkt'])\n",
    "geom2 = loads(wkt['value'])\n",
    "if not geom1.intersects(geom2):\n",
    "    raise ValueError('Area of Interest has no intersection with selected product.')\n"
   ]
  },
  {
   "cell_type": "code",
   "execution_count": 11,
   "metadata": {
    "collapsed": false
   },
   "outputs": [],
   "source": [
    "s2prd = \"%s/%s/%s.SAFE/MTD_MSIL2A.xml\" % (data_path, input_identifier, input_identifier)\n",
    "product = snappy.ProductIO.readProduct(s2prd)\n",
    "\n",
    "width = product.getSceneRasterWidth()\n",
    "height = product.getSceneRasterHeight()\n",
    "name = product.getName()\n",
    "description = product.getDescription()\n",
    "band_names = product.getBandNames()\n"
   ]
  },
  {
   "cell_type": "code",
   "execution_count": 12,
   "metadata": {
    "collapsed": true
   },
   "outputs": [],
   "source": [
    "product_date = parser.parse(product.getStartTime().toString()).date()"
   ]
  },
  {
   "cell_type": "code",
   "execution_count": 13,
   "metadata": {
    "collapsed": true
   },
   "outputs": [],
   "source": [
    "output_date = '%s%02d%02d' % (product_date.year, product_date.month, product_date.day)"
   ]
  },
  {
   "cell_type": "code",
   "execution_count": 14,
   "metadata": {},
   "outputs": [
    {
     "name": "stdout",
     "output_type": "stream",
     "text": [
      "Bands:  ['B1', 'B2', 'B3', 'B4', 'B5', 'B6', 'B7', 'B8A', 'B9', 'B11', 'B12', 'quality_aot', 'quality_wvp', 'quality_cloud_confidence', 'quality_snow_confidence', 'quality_scene_classification', 'view_zenith_mean', 'view_azimuth_mean', 'sun_zenith', 'sun_azimuth', 'view_zenith_B1', 'view_azimuth_B1', 'view_zenith_B2', 'view_azimuth_B2', 'view_zenith_B3', 'view_azimuth_B3', 'view_zenith_B4', 'view_azimuth_B4', 'view_zenith_B5', 'view_azimuth_B5', 'view_zenith_B6', 'view_azimuth_B6', 'view_zenith_B7', 'view_azimuth_B7', 'view_zenith_B8', 'view_azimuth_B8', 'view_zenith_B8A', 'view_azimuth_B8A', 'view_zenith_B9', 'view_azimuth_B9', 'view_zenith_B10', 'view_azimuth_B10', 'view_zenith_B11', 'view_azimuth_B11', 'view_zenith_B12', 'view_azimuth_B12']\n"
     ]
    }
   ],
   "source": [
    "print('Bands:  %s' % (list(band_names)))\n"
   ]
  },
  {
   "cell_type": "markdown",
   "metadata": {},
   "source": [
    "#### Depending to the product, select B8 or B8A"
   ]
  },
  {
   "cell_type": "code",
   "execution_count": 15,
   "metadata": {},
   "outputs": [],
   "source": [
    "if 'B8' in band_names :    \n",
    "    band_B8A=False\n",
    "elif 'B8A'in band_names: \n",
    "    band_B8A=True"
   ]
  },
  {
   "cell_type": "code",
   "execution_count": 16,
   "metadata": {},
   "outputs": [
    {
     "data": {
      "text/plain": [
       "True"
      ]
     },
     "execution_count": 16,
     "metadata": {},
     "output_type": "execute_result"
    }
   ],
   "source": [
    "band_B8A"
   ]
  },
  {
   "cell_type": "code",
   "execution_count": 17,
   "metadata": {
    "collapsed": true
   },
   "outputs": [],
   "source": [
    "if resolution['value'] == '10':\n",
    "    reference_band = 'B4'\n",
    "\n",
    "if resolution['value'] == '20':\n",
    "    reference_band = 'B5'\n",
    "    \n",
    "if resolution['value'] == '60':\n",
    "     reference_band = 'B1'   "
   ]
  },
  {
   "cell_type": "code",
   "execution_count": 18,
   "metadata": {},
   "outputs": [
    {
     "name": "stdout",
     "output_type": "stream",
     "text": [
      "B1\n"
     ]
    }
   ],
   "source": [
    "print(reference_band)"
   ]
  },
  {
   "cell_type": "markdown",
   "metadata": {},
   "source": [
    "#### Resample the product to the desired resolution"
   ]
  },
  {
   "cell_type": "code",
   "execution_count": 20,
   "metadata": {
    "collapsed": false
   },
   "outputs": [],
   "source": [
    "snappy.GPF.getDefaultInstance().getOperatorSpiRegistry().loadOperatorSpis()\n",
    "HashMap = snappy.jpy.get_type('java.util.HashMap')\n",
    "parameters = HashMap()\n",
    "parameters.put('referenceBand', reference_band)\n",
    "product = snappy.GPF.createProduct('Resample', parameters, product)\n",
    "   "
   ]
  },
  {
   "cell_type": "markdown",
   "metadata": {},
   "source": [
    "#### Pixle Flag Expresion\n",
    "'saturated_l1a_B4' pixles will be excluded from ndvi & ndwi computation"
   ]
  },
  {
   "cell_type": "code",
   "execution_count": 21,
   "metadata": {
    "collapsed": true
   },
   "outputs": [],
   "source": [
    "#do we have only two types of flag exrpresion???\n",
    "\n",
    "flag_expr = dict([('id', 'flag_expr'),\n",
    "               ('value', [ 'saturated_l1a_B4' , 'scl_water' ]),\n",
    "               ('title', 'Flag expression for pixel exclusion'),\n",
    "               ('abstract', 'Flag expression for pixel exclusion (e.g. saturated_l1a_B4 will exclude pixels having the flag saturated_l1a_B4 set)')])"
   ]
  },
  {
   "cell_type": "code",
   "execution_count": 22,
   "metadata": {},
   "outputs": [],
   "source": [
    "flag_expr['value']='scl_water'\n"
   ]
  },
  {
   "cell_type": "markdown",
   "metadata": {},
   "source": [
    "## ndvi & ndwi computation"
   ]
  },
  {
   "cell_type": "code",
   "execution_count": 23,
   "metadata": {},
   "outputs": [],
   "source": [
    "#To be semantically checked ---> if flag_expr['value']=='saturated_l1a_B4' ?\n",
    "# Can we use B8A to compute ndvi & ndwi?\n",
    "\n",
    "if not flag_expr['value']=='saturated_l1a_B4' :\n",
    "    if not band_B8A:\n",
    "        ndvi_expr = '(B8 + B4) != 0 ? 10000 + ((B8 - B4)/(B8 + B4)) * 10000 : 30000'\n",
    "        ndwi_expr='(B8+B11)!=0? 10000+((B8-B11)/(B8+B11))*10000 :30000'\n",
    "    else:\n",
    "        ndvi_expr = '(B8A + B4) != 0 ? 10000 + ((B8A - B4)/(B8A + B4)) * 10000 : 30000'\n",
    "        ndwi_expr='(B8A+B11)!=0? 10000+((B8A-B11)/(B8A+B11))*10000 :30000'\n",
    "        \n",
    "else:\n",
    "   \n",
    "   ndvi_expr = '! %s and (B8 + B4) != 0 ? 10000 + ((B8 - B4)/(B8 + B4)) * 10000 : 30000' % flag_expr['value']\n",
    "   ndwi_expr = '! %s and (B8 + B11) != 0 ? 10000 + ((B8 - B11)/(B8 + B11)) * 10000 : 30000' % flag_expr['value']\n"
   ]
  },
  {
   "cell_type": "code",
   "execution_count": 24,
   "metadata": {},
   "outputs": [
    {
     "data": {
      "text/plain": [
       "'(B8A + B4) != 0 ? 10000 + ((B8A - B4)/(B8A + B4)) * 10000 : 30000'"
      ]
     },
     "execution_count": 24,
     "metadata": {},
     "output_type": "execute_result"
    }
   ],
   "source": [
    "ndvi_expr"
   ]
  },
  {
   "cell_type": "code",
   "execution_count": 25,
   "metadata": {},
   "outputs": [
    {
     "name": "stdout",
     "output_type": "stream",
     "text": [
      "16\n",
      "['ndwi', 'ndvi', 'quality_cloud_confidence', 'quality_snow_confidence', 'quality_scene_classification', 'B1', 'B2', 'B3', 'B4', 'B5', 'B6', 'B7', 'B8A', 'B9', 'B11', 'B12']\n"
     ]
    }
   ],
   "source": [
    "if band_B8A:\n",
    "   displayed_Bands=['ndwi','ndvi','quality_cloud_confidence','quality_snow_confidence', 'quality_scene_classification','B1', 'B2', 'B3', 'B4', 'B5', 'B6', 'B7', 'B8A', 'B9', 'B11', 'B12']\n",
    "else:\n",
    "   displayed_Bands=['ndwi','ndvi','quality_cloud_confidence','quality_snow_confidence', 'quality_scene_classification','B1', 'B2', 'B3', 'B4', 'B5', 'B6', 'B7', 'B8', 'B9', 'B11', 'B12']\n",
    "\n",
    "print(len(displayed_Bands))\n",
    "print(displayed_Bands)\n",
    "\n",
    "\n",
    "\n"
   ]
  },
  {
   "cell_type": "code",
   "execution_count": null,
   "metadata": {},
   "outputs": [],
   "source": []
  },
  {
   "cell_type": "code",
   "execution_count": null,
   "metadata": {},
   "outputs": [],
   "source": []
  },
  {
   "cell_type": "markdown",
   "metadata": {},
   "source": [
    "## Cloud Coverage Analysis"
   ]
  },
  {
   "cell_type": "code",
   "execution_count": 26,
   "metadata": {},
   "outputs": [],
   "source": [
    "percentage_threshold = dict([('id', 'percentage_threshold'),\n",
    "                           ('value', '20.0'),\n",
    "                           ('title', 'Cloud percentage threshold'),\n",
    "                           ('abstract', 'Cloud percentage threshold')])"
   ]
  },
  {
   "cell_type": "markdown",
   "metadata": {},
   "source": []
  },
  {
   "cell_type": "code",
   "execution_count": null,
   "metadata": {},
   "outputs": [],
   "source": []
  },
  {
   "cell_type": "code",
   "execution_count": 27,
   "metadata": {},
   "outputs": [],
   "source": [
    "HashMap = snappy.jpy.get_type('java.util.HashMap')\n",
    "\n",
    "BandDescriptor = snappy.jpy.get_type('org.esa.snap.core.gpf.common.BandMathsOp$BandDescriptor')\n",
    "\n",
    "targetBand0 = BandDescriptor()\n",
    "targetBand0.name = 'cloud_mask'\n",
    "targetBand0.type = 'uint16'\n",
    "targetBand0.expression = 'opaque_clouds_60m'\n",
    "\n",
    "\n",
    "targetBands = snappy.jpy.array('org.esa.snap.core.gpf.common.BandMathsOp$BandDescriptor', 1)\n",
    "targetBands[0] = targetBand0\n",
    "\n",
    " \n",
    "parameters = HashMap()\n",
    "parameters.put('targetBands', targetBands)\n",
    "\n",
    "cloud_mask = snappy.GPF.createProduct('BandMaths', parameters, product)\n"
   ]
  },
  {
   "cell_type": "code",
   "execution_count": 28,
   "metadata": {},
   "outputs": [],
   "source": [
    "WKTReader = snappy.jpy.get_type('com.vividsolutions.jts.io.WKTReader')\n",
    "\n",
    "geom = WKTReader().read(wkt['value'])\n",
    "\n",
    "\n",
    "\n",
    "\n",
    "\n",
    "\n",
    "parameters = HashMap()\n",
    "parameters.put('copyMetadata', True)\n",
    "parameters.put('geoRegion', geom)\n",
    "    \n",
    "cloud_mask_geo = snappy.GPF.createProduct('Subset', parameters, cloud_mask)\n",
    "\n",
    "mask_geo_output_name = '%s_MASK_%s.tif' % (name, resolution['value'])\n",
    "snappy.ProductIO.writeProduct(cloud_mask_geo, mask_geo_output_name,'GeoTIFF')"
   ]
  },
  {
   "cell_type": "code",
   "execution_count": 29,
   "metadata": {},
   "outputs": [
    {
     "name": "stdout",
     "output_type": "stream",
     "text": [
      "0 0\n",
      "0\n"
     ]
    }
   ],
   "source": [
    "import gdalnumeric\n",
    "raster_file = gdalnumeric.LoadFile(mask_geo_output_name)\n",
    "print raster_file.min(), raster_file.max()\n",
    "pixel_count_cloud_geo = (raster_file == 255).sum()  # for pixel value = 1\n",
    "print pixel_count_cloud_geo\n",
    "cloud_percent =  float(pixel_count_cloud_geo) / float(raster_file.size) * 100.0"
   ]
  },
  {
   "cell_type": "code",
   "execution_count": 30,
   "metadata": {},
   "outputs": [
    {
     "data": {
      "text/plain": [
       "0.0"
      ]
     },
     "execution_count": 30,
     "metadata": {},
     "output_type": "execute_result"
    }
   ],
   "source": [
    "cloud_percent"
   ]
  },
  {
   "cell_type": "code",
   "execution_count": 31,
   "metadata": {},
   "outputs": [],
   "source": [
    "if cloud_percent >= float(percentage_threshold['value']):\n",
    "    \n",
    "    snappy.GPF.getDefaultInstance().getOperatorSpiRegistry().loadOperatorSpis()\n",
    "\n",
    "    HashMap = snappy.jpy.get_type('java.util.HashMap')\n",
    "\n",
    "    WKTReader = snappy.jpy.get_type('com.vividsolutions.jts.io.WKTReader')\n",
    "    \n",
    "    geom = WKTReader().read(wkt['value'])\n",
    "    \n",
    "    subsets = []\n",
    "    geotiffs = []\n",
    "    \n",
    "    for band in list(band_names)[0:16]:\n",
    "\n",
    "        BandDescriptor = snappy.jpy.get_type('org.esa.snap.core.gpf.common.BandMathsOp$BandDescriptor')\n",
    "\n",
    "        parameters = HashMap()\n",
    "        parameters.put('referenceBand', band)\n",
    "\n",
    "        resample = snappy.GPF.createProduct('Resample', parameters, product)\n",
    "\n",
    "        parameters = HashMap()\n",
    "        parameters.put('copyMetadata', True)\n",
    "        parameters.put('sourceBands', band)\n",
    "\n",
    "        subset = snappy.GPF.createProduct('Subset', parameters, resample)\n",
    "\n",
    "        parameters = HashMap()\n",
    "        parameters.put('copyMetadata', True)\n",
    "        parameters.put('geoRegion', geom)\n",
    "\n",
    "        subset_geo = snappy.GPF.createProduct('Subset', parameters, subset)\n",
    "\n",
    "        subsets.append(subset_geo)\n",
    "\n",
    "        #output_name = 'S2A_USER_PRD_MSIL1C_%s_%s_CROP_%s.tif' % (output_date, pa_code['value'], band)\n",
    "        output_name = '%s_PA_CROP_%s.tif' % (name, band)\n",
    "        geotiffs.append(output_name)\n",
    "\n",
    "    snappy.ProductIO.writeProduct(subset_geo, output_name, 'GeoTIFF')"
   ]
  },
  {
   "cell_type": "markdown",
   "metadata": {},
   "source": [
    "## Target Bands : B1/B12 & ndvi & ndwi & Cloud Mask\n"
   ]
  },
  {
   "cell_type": "code",
   "execution_count": 32,
   "metadata": {
    "collapsed": false
   },
   "outputs": [],
   "source": [
    "HashMap = snappy.jpy.get_type('java.util.HashMap')\n",
    "\n",
    "BandDescriptor = snappy.jpy.get_type('org.esa.snap.core.gpf.common.BandMathsOp$BandDescriptor')\n",
    "\n",
    "\n",
    "targetBands = snappy.jpy.array('org.esa.snap.core.gpf.common.BandMathsOp$BandDescriptor', len(displayed_Bands))\n",
    "for j in range(0,len(displayed_Bands)):\n",
    "     Disp_target = BandDescriptor()\n",
    "     Disp_target.name = displayed_Bands[j]\n",
    "     Disp_target.type = 'uint16'\n",
    "     if displayed_Bands[j]=='ndvi':\n",
    "        Disp_target.expression =ndvi_expr\n",
    "     elif displayed_Bands[j]=='ndwi':\n",
    "        Disp_target.expression =ndwi_expr\n",
    "     else:  \n",
    "        Disp_target.expression = displayed_Bands[j]\n",
    "     targetBands[j] = Disp_target\n",
    "parameters = HashMap()\n",
    "parameters.put('targetBands', targetBands)\n",
    "\n",
    "ndvi_ndwi = snappy.GPF.createProduct('BandMaths', parameters, product)"
   ]
  },
  {
   "cell_type": "code",
   "execution_count": 33,
   "metadata": {
    "collapsed": false
   },
   "outputs": [
    {
     "data": {
      "text/plain": [
       "0"
      ]
     },
     "execution_count": 33,
     "metadata": {},
     "output_type": "execute_result"
    }
   ],
   "source": [
    "product = None\n",
    "\n",
    "\n",
    "\n",
    "gc.collect()"
   ]
  },
  {
   "cell_type": "markdown",
   "metadata": {},
   "source": [
    "#### Write the geotiff"
   ]
  },
  {
   "cell_type": "code",
   "execution_count": 34,
   "metadata": {
    "collapsed": true
   },
   "outputs": [],
   "source": [
    "output_name = '%s_NDVI_NDWI' %input_identifier"
   ]
  },
  {
   "cell_type": "code",
   "execution_count": 35,
   "metadata": {
    "collapsed": false
   },
   "outputs": [],
   "source": [
    "snappy.ProductIO.writeProduct(ndvi_ndwi, output_name + '.tif', 'GeoTIFF')"
   ]
  },
  {
   "cell_type": "markdown",
   "metadata": {},
   "source": [
    "### EOP Metadata"
   ]
  },
  {
   "cell_type": "code",
   "execution_count": 36,
   "metadata": {},
   "outputs": [],
   "source": [
    "def eop_metadata(metadata):\n",
    "\n",
    "    opt = 'http://www.opengis.net/opt/2.1'\n",
    "    om  = 'http://www.opengis.net/om/2.0'\n",
    "    gml = 'http://www.opengis.net/gml/3.2'\n",
    "    eop = 'http://www.opengis.net/eop/2.1'\n",
    "    sar = 'http://www.opengis.net/sar/2.1'\n",
    "    \n",
    "    root = etree.Element('{%s}EarthObservation' % opt)\n",
    "\n",
    "    phenomenon_time = etree.SubElement(root, '{%s}phenomenonTime' % om)\n",
    "\n",
    "    time_period = etree.SubElement(phenomenon_time, '{%s}TimePeriod' % gml)\n",
    "\n",
    "    begin_position = etree.SubElement(time_period, '{%s}beginPosition'  % gml)\n",
    "\n",
    "    end_position = etree.SubElement(time_period, '{%s}endPosition'  % gml)\n",
    "\n",
    "    procedure = etree.SubElement(root, '{%s}procedure' % om)\n",
    "\n",
    "    earth_observation_equipment = etree.SubElement(procedure, '{%s}EarthObservationEquipment' % eop)\n",
    "\n",
    "    acquisition_parameters = etree.SubElement(earth_observation_equipment, '{%s}acquisitionParameters' % eop)\n",
    "\n",
    "    acquisition = etree.SubElement(acquisition_parameters, '{%s}Acquisition' % sar)\n",
    "\n",
    "    orbit_number = etree.SubElement(acquisition, '{%s}orbitNumber' % eop)\n",
    "\n",
    "    wrs_longitude_grid = etree.SubElement(acquisition, '{%s}wrsLongitudeGrid' % eop)\n",
    "    \n",
    "    feature_of_interest = etree.SubElement(root, '{%s}featureOfInterest' % om)\n",
    "    footprint = etree.SubElement(feature_of_interest, '{%s}Footprint' % eop)\n",
    "    multi_extentOf = etree.SubElement(footprint, '{%s}multiExtentOf' % eop)\n",
    "    multi_surface = etree.SubElement(multi_extentOf, '{%s}MultiSurface' % gml)\n",
    "    surface_members = etree.SubElement(multi_surface, '{%s}surfaceMembers' % gml)\n",
    "    polygon = etree.SubElement(surface_members, '{%s}Polygon' % gml)    \n",
    "    exterior = etree.SubElement(polygon, '{%s}exterior' % gml)  \n",
    "    linear_ring = etree.SubElement(exterior, '{%s}LinearRing' % gml) \n",
    "    poslist = etree.SubElement(linear_ring, '{%s}posList' % gml) \n",
    "\n",
    "\n",
    "    result = etree.SubElement(root, '{%s}result' % om)\n",
    "    earth_observation_result = etree.SubElement(result, '{%s}EarthObservationResult' % opt)\n",
    "    cloud_cover_percentage = etree.SubElement(earth_observation_result, '{%s}cloudCoverPercentage' % opt)\n",
    "    \n",
    "    metadata_property = etree.SubElement(root, '{%s}metaDataProperty' % eop)\n",
    "    earth_observation_metadata = etree.SubElement(metadata_property, '{%s}EarthObservationMetaData' % eop)\n",
    "    identifier = etree.SubElement(earth_observation_metadata, '{%s}identifier' % eop)\n",
    "    \n",
    "    begin_position.text = metadata['startdate']\n",
    "    end_position.text = metadata['enddate']\n",
    "    orbit_number.text = metadata['orbitNumber']\n",
    "    wrs_longitude_grid.text = metadata['wrsLongitudeGrid']\n",
    "    \n",
    "    coords = np.asarray([t[::-1] for t in list(loads(metadata['wkt']).exterior.coords)]).tolist()\n",
    " \n",
    "    pos_list = ''\n",
    "    for elem in coords:\n",
    "        pos_list += ' '.join(str(e) for e in elem) + ' '   \n",
    "\n",
    "    poslist.attrib['count'] = str(len(coords))\n",
    "    poslist.text = pos_list\n",
    "    \n",
    "    \n",
    "    identifier.text = metadata['identifier'] \n",
    "\n",
    "    return etree.tostring(root, pretty_print=True)\n",
    "\n",
    "\n"
   ]
  },
  {
   "cell_type": "markdown",
   "metadata": {},
   "source": [
    "## Create EOP XML file"
   ]
  },
  {
   "cell_type": "code",
   "execution_count": 37,
   "metadata": {},
   "outputs": [],
   "source": [
    "import cioppy\n",
    "ciop = cioppy.Cioppy()\n",
    "from shapely.wkt import loads\n",
    "import lxml.etree as etree\n",
    "\n",
    "\n",
    "search = ciop.search(end_point=input_reference,\n",
    "                     params=[],\n",
    "                     output_fields='enclosure,identifier,startdate,enddate,wkt,orbitNumber,orbitDirection,wrsLongitudeGrid',\n",
    "                     model='EOP')\n",
    "\n",
    "search[0]['identifier'] = output_name.replace('.tif', '')\n",
    "\n",
    "eop_xml = output_name.replace('.tif', '.xml')\n",
    "with open(eop_xml, 'wb') as file:\n",
    "    file.write('<?xml version=\"1.0\" encoding=\"UTF-8\"?>\\n')\n",
    "    file.write(eop_metadata(search[0]))\n",
    "\n"
   ]
  },
  {
   "cell_type": "code",
   "execution_count": null,
   "metadata": {
    "collapsed": true
   },
   "outputs": [],
   "source": []
  }
 ],
 "metadata": {
  "kernelspec": {
   "display_name": "Python 2",
   "language": "python",
   "name": "python2"
  },
  "language_info": {
   "codemirror_mode": {
    "name": "ipython",
    "version": 2
   },
   "file_extension": ".py",
   "mimetype": "text/x-python",
   "name": "python",
   "nbconvert_exporter": "python",
   "pygments_lexer": "ipython2",
   "version": "2.7.12"
  }
 },
 "nbformat": 4,
 "nbformat_minor": 2
}
